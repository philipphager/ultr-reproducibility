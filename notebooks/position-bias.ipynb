{
 "cells": [
  {
   "cell_type": "code",
   "execution_count": 1,
   "id": "e3e9fe1d-bd44-46cf-9986-a3c017da59bb",
   "metadata": {},
   "outputs": [],
   "source": [
    "import altair as alt\n",
    "import pandas as pd\n",
    "\n",
    "from pathlib import Path\n",
    "from theme import theme"
   ]
  },
  {
   "cell_type": "code",
   "execution_count": 2,
   "id": "123f75f3-1129-45ea-9db9-decd91a9560f",
   "metadata": {},
   "outputs": [
    {
     "data": {
      "text/plain": [
       "ThemeRegistry.enable('latex')"
      ]
     },
     "execution_count": 2,
     "metadata": {},
     "output_type": "execute_result"
    }
   ],
   "source": [
    "alt.themes.register(\"latex\", theme)\n",
    "alt.themes.enable(\"latex\")"
   ]
  },
  {
   "cell_type": "code",
   "execution_count": 3,
   "id": "4151bdeb-e3b1-4c1c-9f4c-b37e8ca275d6",
   "metadata": {},
   "outputs": [],
   "source": [
    "name = \"position-bias\"\n",
    "directory = Path(\"figures/\")"
   ]
  },
  {
   "cell_type": "markdown",
   "id": "392bb25f-5d85-4a85-a3eb-57d26deb4072",
   "metadata": {},
   "source": [
    "## Figure 2: Position bias estimates on Baidu ULTR"
   ]
  },
  {
   "cell_type": "code",
   "execution_count": 203,
   "id": "c19613ae-6201-48e3-b36b-1f7a14e0905f",
   "metadata": {},
   "outputs": [],
   "source": [
    "method2name = {\n",
    "    \"ctr\": \"CTR\",\n",
    "    \"RegressionEM\": \"REM\",\n",
    "    \"global_all_pairs\": \"All Pairs\",\n",
    "    \"adjacent_chain\": \"Adjacent Chain\",\n",
    "    \"pivot_one\": \"Pivot One\",\n",
    "}"
   ]
  },
  {
   "cell_type": "code",
   "execution_count": 204,
   "id": "818ef574-57eb-4f9c-a60c-dee959b2df70",
   "metadata": {},
   "outputs": [
    {
     "data": {
      "text/html": [
       "<div>\n",
       "<style scoped>\n",
       "    .dataframe tbody tr th:only-of-type {\n",
       "        vertical-align: middle;\n",
       "    }\n",
       "\n",
       "    .dataframe tbody tr th {\n",
       "        vertical-align: top;\n",
       "    }\n",
       "\n",
       "    .dataframe thead th {\n",
       "        text-align: right;\n",
       "    }\n",
       "</style>\n",
       "<table border=\"1\" class=\"dataframe\">\n",
       "  <thead>\n",
       "    <tr style=\"text-align: right;\">\n",
       "      <th></th>\n",
       "      <th>position</th>\n",
       "      <th>examination</th>\n",
       "      <th>name</th>\n",
       "    </tr>\n",
       "  </thead>\n",
       "  <tbody>\n",
       "    <tr>\n",
       "      <th>0</th>\n",
       "      <td>1</td>\n",
       "      <td>1.000000</td>\n",
       "      <td>All Pairs</td>\n",
       "    </tr>\n",
       "    <tr>\n",
       "      <th>1</th>\n",
       "      <td>2</td>\n",
       "      <td>0.673779</td>\n",
       "      <td>All Pairs</td>\n",
       "    </tr>\n",
       "    <tr>\n",
       "      <th>2</th>\n",
       "      <td>3</td>\n",
       "      <td>0.414474</td>\n",
       "      <td>All Pairs</td>\n",
       "    </tr>\n",
       "    <tr>\n",
       "      <th>3</th>\n",
       "      <td>4</td>\n",
       "      <td>0.293205</td>\n",
       "      <td>All Pairs</td>\n",
       "    </tr>\n",
       "    <tr>\n",
       "      <th>4</th>\n",
       "      <td>5</td>\n",
       "      <td>0.207862</td>\n",
       "      <td>All Pairs</td>\n",
       "    </tr>\n",
       "  </tbody>\n",
       "</table>\n",
       "</div>"
      ],
      "text/plain": [
       "   position  examination       name\n",
       "0         1     1.000000  All Pairs\n",
       "1         2     0.673779  All Pairs\n",
       "2         3     0.414474  All Pairs\n",
       "3         4     0.293205  All Pairs\n",
       "4         5     0.207862  All Pairs"
      ]
     },
     "execution_count": 204,
     "metadata": {},
     "output_type": "execute_result"
    }
   ],
   "source": [
    "dfs = []\n",
    "path = Path(\"../propensities\")\n",
    "\n",
    "for file in path.glob(\"*.csv\"):\n",
    "    df = pd.read_csv(file)\n",
    "\n",
    "    method = df.columns[1]\n",
    "    df[\"name\"] = method2name[method]\n",
    "    df = df.rename(columns={method: \"examination\"})\n",
    "    dfs.append(df)\n",
    "\n",
    "df = pd.concat(dfs)\n",
    "df.head()"
   ]
  },
  {
   "cell_type": "markdown",
   "id": "d1027477-1cb4-405d-a99c-6985712a9ce1",
   "metadata": {},
   "source": [
    "## RegressionEM"
   ]
  },
  {
   "cell_type": "code",
   "execution_count": 208,
   "id": "fd1d5794-9523-4e59-9a41-7ff709f493d0",
   "metadata": {},
   "outputs": [
    {
     "data": {
      "text/html": [
       "<div>\n",
       "<style scoped>\n",
       "    .dataframe tbody tr th:only-of-type {\n",
       "        vertical-align: middle;\n",
       "    }\n",
       "\n",
       "    .dataframe tbody tr th {\n",
       "        vertical-align: top;\n",
       "    }\n",
       "\n",
       "    .dataframe thead th {\n",
       "        text-align: right;\n",
       "    }\n",
       "</style>\n",
       "<table border=\"1\" class=\"dataframe\">\n",
       "  <thead>\n",
       "    <tr style=\"text-align: right;\">\n",
       "      <th></th>\n",
       "      <th>name</th>\n",
       "      <th>position</th>\n",
       "      <th>examination</th>\n",
       "    </tr>\n",
       "  </thead>\n",
       "  <tbody>\n",
       "    <tr>\n",
       "      <th>0</th>\n",
       "      <td>REM</td>\n",
       "      <td>1</td>\n",
       "      <td>1.000000</td>\n",
       "    </tr>\n",
       "    <tr>\n",
       "      <th>1</th>\n",
       "      <td>REM</td>\n",
       "      <td>2</td>\n",
       "      <td>0.638155</td>\n",
       "    </tr>\n",
       "    <tr>\n",
       "      <th>2</th>\n",
       "      <td>REM</td>\n",
       "      <td>3</td>\n",
       "      <td>0.416706</td>\n",
       "    </tr>\n",
       "    <tr>\n",
       "      <th>3</th>\n",
       "      <td>REM</td>\n",
       "      <td>4</td>\n",
       "      <td>0.357961</td>\n",
       "    </tr>\n",
       "    <tr>\n",
       "      <th>4</th>\n",
       "      <td>REM</td>\n",
       "      <td>5</td>\n",
       "      <td>0.226802</td>\n",
       "    </tr>\n",
       "  </tbody>\n",
       "</table>\n",
       "</div>"
      ],
      "text/plain": [
       "  name  position  examination\n",
       "0  REM         1     1.000000\n",
       "1  REM         2     0.638155\n",
       "2  REM         3     0.416706\n",
       "3  REM         4     0.357961\n",
       "4  REM         5     0.226802"
      ]
     },
     "execution_count": 208,
     "metadata": {},
     "output_type": "execute_result"
    }
   ],
   "source": [
    "files = list(Path(\"outputs/propensity-estimation\").glob(\"*/exam.parquet\"))\n",
    "rem_df = pd.concat([pd.read_parquet(f) for f in files])\n",
    "rem_df = rem_df.rename(columns={\"model\": \"name\"})\n",
    "rem_df[\"name\"] = rem_df[\"name\"].map(method2name)\n",
    "rem_df.head()"
   ]
  },
  {
   "cell_type": "code",
   "execution_count": 209,
   "id": "390b81fc-f6d6-487f-8990-2be62ac0f6b4",
   "metadata": {},
   "outputs": [],
   "source": [
    "df = pd.concat([df, rem_df])\n",
    "df = df[df[\"position\"] <= 10]\n",
    "ctr_df = df[df[\"name\"] == \"CTR\"].copy()\n",
    "harvesting_df = df[df[\"name\"] != \"CTR\"].copy()\n",
    "order = list(method2name.values())"
   ]
  },
  {
   "cell_type": "code",
   "execution_count": 210,
   "id": "064c1c36-debf-419e-89c1-2e4a58fb39ae",
   "metadata": {},
   "outputs": [],
   "source": [
    "mehtod2zindex = {m: i for i, m in enumerate(method2name.values())}\n",
    "harvesting_df[\"z-index\"] = harvesting_df.name.map(mehtod2zindex)\n",
    "harvesting_df = harvesting_df.sort_values(\"z-index\", ascending=False)"
   ]
  },
  {
   "cell_type": "code",
   "execution_count": 214,
   "id": "283e2628-977f-4993-90cf-35593d5a048f",
   "metadata": {},
   "outputs": [
    {
     "data": {
      "text/html": [
       "\n",
       "<style>\n",
       "  #altair-viz-4e3338d09ae340e7a3133c109fb60787.vega-embed {\n",
       "    width: 100%;\n",
       "    display: flex;\n",
       "  }\n",
       "\n",
       "  #altair-viz-4e3338d09ae340e7a3133c109fb60787.vega-embed details,\n",
       "  #altair-viz-4e3338d09ae340e7a3133c109fb60787.vega-embed details summary {\n",
       "    position: relative;\n",
       "  }\n",
       "</style>\n",
       "<div id=\"altair-viz-4e3338d09ae340e7a3133c109fb60787\"></div>\n",
       "<script type=\"text/javascript\">\n",
       "  var VEGA_DEBUG = (typeof VEGA_DEBUG == \"undefined\") ? {} : VEGA_DEBUG;\n",
       "  (function(spec, embedOpt){\n",
       "    let outputDiv = document.currentScript.previousElementSibling;\n",
       "    if (outputDiv.id !== \"altair-viz-4e3338d09ae340e7a3133c109fb60787\") {\n",
       "      outputDiv = document.getElementById(\"altair-viz-4e3338d09ae340e7a3133c109fb60787\");\n",
       "    }\n",
       "    const paths = {\n",
       "      \"vega\": \"https://cdn.jsdelivr.net/npm/vega@5?noext\",\n",
       "      \"vega-lib\": \"https://cdn.jsdelivr.net/npm/vega-lib?noext\",\n",
       "      \"vega-lite\": \"https://cdn.jsdelivr.net/npm/vega-lite@5.15.1?noext\",\n",
       "      \"vega-embed\": \"https://cdn.jsdelivr.net/npm/vega-embed@6?noext\",\n",
       "    };\n",
       "\n",
       "    function maybeLoadScript(lib, version) {\n",
       "      var key = `${lib.replace(\"-\", \"\")}_version`;\n",
       "      return (VEGA_DEBUG[key] == version) ?\n",
       "        Promise.resolve(paths[lib]) :\n",
       "        new Promise(function(resolve, reject) {\n",
       "          var s = document.createElement('script');\n",
       "          document.getElementsByTagName(\"head\")[0].appendChild(s);\n",
       "          s.async = true;\n",
       "          s.onload = () => {\n",
       "            VEGA_DEBUG[key] = version;\n",
       "            return resolve(paths[lib]);\n",
       "          };\n",
       "          s.onerror = () => reject(`Error loading script: ${paths[lib]}`);\n",
       "          s.src = paths[lib];\n",
       "        });\n",
       "    }\n",
       "\n",
       "    function showError(err) {\n",
       "      outputDiv.innerHTML = `<div class=\"error\" style=\"color:red;\">${err}</div>`;\n",
       "      throw err;\n",
       "    }\n",
       "\n",
       "    function displayChart(vegaEmbed) {\n",
       "      vegaEmbed(outputDiv, spec, embedOpt)\n",
       "        .catch(err => showError(`Javascript Error: ${err.message}<br>This usually means there's a typo in your chart specification. See the javascript console for the full traceback.`));\n",
       "    }\n",
       "\n",
       "    if(typeof define === \"function\" && define.amd) {\n",
       "      requirejs.config({paths});\n",
       "      require([\"vega-embed\"], displayChart, err => showError(`Error loading script: ${err.message}`));\n",
       "    } else {\n",
       "      maybeLoadScript(\"vega\", \"5\")\n",
       "        .then(() => maybeLoadScript(\"vega-lite\", \"5.15.1\"))\n",
       "        .then(() => maybeLoadScript(\"vega-embed\", \"6\"))\n",
       "        .catch(showError)\n",
       "        .then(() => displayChart(vegaEmbed));\n",
       "    }\n",
       "  })({\"config\": {\"title\": {\"font\": \"serif\", \"fontWeight\": \"normal\", \"fontSize\": 16, \"dx\": 5}, \"axis\": {\"titleFont\": \"serif\", \"titleFontWeight\": \"normal\", \"titleFontSize\": 16, \"labelFont\": \"serif\", \"labelFontWeight\": \"normal\", \"labelFontSize\": 16}, \"headerColumn\": {\"titleFont\": \"serif\", \"titleFontWeight\": \"normal\", \"titleFontSize\": 16, \"labelFont\": \"serif\", \"labelFontWeight\": \"normal\", \"labelFontSize\": 16}, \"text\": {\"font\": \"serif\", \"fontSize\": 14}, \"legend\": {\"labelFont\": \"serif\", \"titleFont\": \"serif\", \"titleFontSize\": 16, \"labelFontSize\": 16, \"direction\": \"horizontal\", \"orient\": \"top\"}, \"point\": {\"size\": 30}}, \"layer\": [{\"data\": {\"name\": \"data-adc1f925dde5377321b431e04d09c052\"}, \"mark\": {\"type\": \"line\", \"opacity\": 1, \"point\": true, \"size\": 2, \"strokeDash\": [8, 2]}, \"encoding\": {\"x\": {\"field\": \"position\", \"scale\": {\"domain\": [1, 10]}, \"title\": \"Position\", \"type\": \"quantitative\"}, \"y\": {\"field\": \"examination\", \"title\": \"Normalized Propensity\", \"type\": \"quantitative\"}}}, {\"data\": {\"name\": \"data-86468763fff3ec2a57e7fe19bdcef3d2\"}, \"mark\": {\"type\": \"line\", \"opacity\": 0.8, \"point\": true, \"size\": 2}, \"encoding\": {\"color\": {\"field\": \"name\", \"scale\": {\"domain\": [\"CTR\", \"REM\", \"All Pairs\", \"Adjacent Chain\", \"Pivot One\"]}, \"sort\": [\"CTR\", \"REM\", \"All Pairs\", \"Adjacent Chain\", \"Pivot One\"], \"title\": \"\", \"type\": \"nominal\"}, \"x\": {\"field\": \"position\", \"scale\": {\"domain\": [1, 10]}, \"title\": \"Position\", \"type\": \"quantitative\"}, \"y\": {\"aggregate\": \"mean\", \"field\": \"examination\", \"title\": \"Normalized Propensity\", \"type\": \"quantitative\"}}}, {\"data\": {\"name\": \"data-86468763fff3ec2a57e7fe19bdcef3d2\"}, \"mark\": {\"type\": \"errorband\", \"extent\": \"ci\", \"opacity\": 0.5}, \"encoding\": {\"color\": {\"field\": \"name\", \"scale\": {\"domain\": [\"CTR\", \"REM\", \"All Pairs\", \"Adjacent Chain\", \"Pivot One\"], \"range\": [\"#393b79\", \"#31a354\", \"#e6550d\", \"#fd8d3c\", \"#fdae6b\"]}, \"sort\": [\"CTR\", \"REM\", \"All Pairs\", \"Adjacent Chain\", \"Pivot One\"], \"title\": \"\", \"type\": \"nominal\"}, \"x\": {\"field\": \"position\", \"title\": \"Position\", \"type\": \"quantitative\"}, \"y\": {\"field\": \"examination\", \"title\": \"Normalized Propensity\", \"type\": \"quantitative\"}}}], \"width\": 425, \"$schema\": \"https://vega.github.io/schema/vega-lite/v5.15.1.json\", \"datasets\": {\"data-adc1f925dde5377321b431e04d09c052\": [{\"position\": 1, \"examination\": 1.0, \"name\": \"CTR\"}, {\"position\": 2, \"examination\": 0.5097289790607338, \"name\": \"CTR\"}, {\"position\": 3, \"examination\": 0.2616321625289055, \"name\": \"CTR\"}, {\"position\": 4, \"examination\": 0.2027042672682065, \"name\": \"CTR\"}, {\"position\": 5, \"examination\": 0.1238965417017656, \"name\": \"CTR\"}, {\"position\": 6, \"examination\": 0.0974831859897688, \"name\": \"CTR\"}, {\"position\": 7, \"examination\": 0.0779626698085857, \"name\": \"CTR\"}, {\"position\": 8, \"examination\": 0.0584677209676218, \"name\": \"CTR\"}, {\"position\": 9, \"examination\": 0.0440616363927777, \"name\": \"CTR\"}, {\"position\": 10, \"examination\": 0.0247579662877773, \"name\": \"CTR\"}], \"data-86468763fff3ec2a57e7fe19bdcef3d2\": [{\"position\": 8, \"examination\": 0.1233189025020633, \"name\": \"Pivot One\", \"z-index\": 4.0}, {\"position\": 6, \"examination\": 0.2016534307371386, \"name\": \"Pivot One\", \"z-index\": 4.0}, {\"position\": 2, \"examination\": 0.6840615215572755, \"name\": \"Pivot One\", \"z-index\": 4.0}, {\"position\": 3, \"examination\": 0.4475922817314897, \"name\": \"Pivot One\", \"z-index\": 4.0}, {\"position\": 4, \"examination\": 0.3261513320659251, \"name\": \"Pivot One\", \"z-index\": 4.0}, {\"position\": 5, \"examination\": 0.2164626444195843, \"name\": \"Pivot One\", \"z-index\": 4.0}, {\"position\": 1, \"examination\": 1.0, \"name\": \"Pivot One\", \"z-index\": 4.0}, {\"position\": 7, \"examination\": 0.1700982923676195, \"name\": \"Pivot One\", \"z-index\": 4.0}, {\"position\": 9, \"examination\": 0.0935745071834897, \"name\": \"Pivot One\", \"z-index\": 4.0}, {\"position\": 10, \"examination\": 0.1357913676140067, \"name\": \"Pivot One\", \"z-index\": 4.0}, {\"position\": 2, \"examination\": 0.6840615215572755, \"name\": \"Adjacent Chain\", \"z-index\": 3.0}, {\"position\": 3, \"examination\": 0.4448892171548264, \"name\": \"Adjacent Chain\", \"z-index\": 3.0}, {\"position\": 4, \"examination\": 0.3214742398040514, \"name\": \"Adjacent Chain\", \"z-index\": 3.0}, {\"position\": 5, \"examination\": 0.2228612207145408, \"name\": \"Adjacent Chain\", \"z-index\": 3.0}, {\"position\": 6, \"examination\": 0.177415967468802, \"name\": \"Adjacent Chain\", \"z-index\": 3.0}, {\"position\": 7, \"examination\": 0.1361182285063964, \"name\": \"Adjacent Chain\", \"z-index\": 3.0}, {\"position\": 8, \"examination\": 0.1172311941184334, \"name\": \"Adjacent Chain\", \"z-index\": 3.0}, {\"position\": 9, \"examination\": 0.082968195240111, \"name\": \"Adjacent Chain\", \"z-index\": 3.0}, {\"position\": 10, \"examination\": 0.0494620835497163, \"name\": \"Adjacent Chain\", \"z-index\": 3.0}, {\"position\": 1, \"examination\": 1.0, \"name\": \"Adjacent Chain\", \"z-index\": 3.0}, {\"position\": 2, \"examination\": 0.6737794280052185, \"name\": \"All Pairs\", \"z-index\": 2.0}, {\"position\": 1, \"examination\": 1.0, \"name\": \"All Pairs\", \"z-index\": 2.0}, {\"position\": 10, \"examination\": 0.0579069145023822, \"name\": \"All Pairs\", \"z-index\": 2.0}, {\"position\": 5, \"examination\": 0.207862377166748, \"name\": \"All Pairs\", \"z-index\": 2.0}, {\"position\": 9, \"examination\": 0.0837790071964263, \"name\": \"All Pairs\", \"z-index\": 2.0}, {\"position\": 4, \"examination\": 0.293204516172409, \"name\": \"All Pairs\", \"z-index\": 2.0}, {\"position\": 3, \"examination\": 0.4144741892814636, \"name\": \"All Pairs\", \"z-index\": 2.0}, {\"position\": 6, \"examination\": 0.1714488416910171, \"name\": \"All Pairs\", \"z-index\": 2.0}, {\"position\": 7, \"examination\": 0.1363073885440826, \"name\": \"All Pairs\", \"z-index\": 2.0}, {\"position\": 8, \"examination\": 0.1165607646107673, \"name\": \"All Pairs\", \"z-index\": 2.0}, {\"position\": 8, \"examination\": 0.112891286611557, \"name\": \"REM\", \"z-index\": 1.0}, {\"position\": 9, \"examination\": 0.08345423638820648, \"name\": \"REM\", \"z-index\": 1.0}, {\"position\": 8, \"examination\": 0.11317840963602066, \"name\": \"REM\", \"z-index\": 1.0}, {\"position\": 1, \"examination\": 1.0, \"name\": \"REM\", \"z-index\": 1.0}, {\"position\": 2, \"examination\": 0.637324869632721, \"name\": \"REM\", \"z-index\": 1.0}, {\"position\": 3, \"examination\": 0.4170377850532532, \"name\": \"REM\", \"z-index\": 1.0}, {\"position\": 4, \"examination\": 0.3607194423675537, \"name\": \"REM\", \"z-index\": 1.0}, {\"position\": 5, \"examination\": 0.22826647758483887, \"name\": \"REM\", \"z-index\": 1.0}, {\"position\": 6, \"examination\": 0.17777810990810394, \"name\": \"REM\", \"z-index\": 1.0}, {\"position\": 7, \"examination\": 0.14248475432395935, \"name\": \"REM\", \"z-index\": 1.0}, {\"position\": 10, \"examination\": 0.06688666343688965, \"name\": \"REM\", \"z-index\": 1.0}, {\"position\": 1, \"examination\": 1.0, \"name\": \"REM\", \"z-index\": 1.0}, {\"position\": 9, \"examination\": 0.08364366739988327, \"name\": \"REM\", \"z-index\": 1.0}, {\"position\": 10, \"examination\": 0.06667931377887726, \"name\": \"REM\", \"z-index\": 1.0}, {\"position\": 2, \"examination\": 0.6388514041900635, \"name\": \"REM\", \"z-index\": 1.0}, {\"position\": 3, \"examination\": 0.41753655672073364, \"name\": \"REM\", \"z-index\": 1.0}, {\"position\": 4, \"examination\": 0.3608531951904297, \"name\": \"REM\", \"z-index\": 1.0}, {\"position\": 5, \"examination\": 0.22860421240329742, \"name\": \"REM\", \"z-index\": 1.0}, {\"position\": 6, \"examination\": 0.17807424068450928, \"name\": \"REM\", \"z-index\": 1.0}, {\"position\": 7, \"examination\": 0.1426079422235489, \"name\": \"REM\", \"z-index\": 1.0}, {\"position\": 8, \"examination\": 0.11323307454586029, \"name\": \"REM\", \"z-index\": 1.0}, {\"position\": 9, \"examination\": 0.08378668129444122, \"name\": \"REM\", \"z-index\": 1.0}, {\"position\": 6, \"examination\": 0.1773921698331833, \"name\": \"REM\", \"z-index\": 1.0}, {\"position\": 7, \"examination\": 0.14194197952747345, \"name\": \"REM\", \"z-index\": 1.0}, {\"position\": 1, \"examination\": 1.0, \"name\": \"REM\", \"z-index\": 1.0}, {\"position\": 5, \"examination\": 0.22787584364414215, \"name\": \"REM\", \"z-index\": 1.0}, {\"position\": 2, \"examination\": 0.6387550234794617, \"name\": \"REM\", \"z-index\": 1.0}, {\"position\": 1, \"examination\": 1.0, \"name\": \"REM\", \"z-index\": 1.0}, {\"position\": 2, \"examination\": 0.6381545662879944, \"name\": \"REM\", \"z-index\": 1.0}, {\"position\": 3, \"examination\": 0.41670629382133484, \"name\": \"REM\", \"z-index\": 1.0}, {\"position\": 4, \"examination\": 0.3579614460468292, \"name\": \"REM\", \"z-index\": 1.0}, {\"position\": 5, \"examination\": 0.22680220007896423, \"name\": \"REM\", \"z-index\": 1.0}, {\"position\": 6, \"examination\": 0.17652519047260284, \"name\": \"REM\", \"z-index\": 1.0}, {\"position\": 7, \"examination\": 0.14116942882537842, \"name\": \"REM\", \"z-index\": 1.0}, {\"position\": 8, \"examination\": 0.1122392788529396, \"name\": \"REM\", \"z-index\": 1.0}, {\"position\": 9, \"examination\": 0.08298486471176147, \"name\": \"REM\", \"z-index\": 1.0}, {\"position\": 10, \"examination\": 0.06591770052909851, \"name\": \"REM\", \"z-index\": 1.0}, {\"position\": 3, \"examination\": 0.4174703359603882, \"name\": \"REM\", \"z-index\": 1.0}, {\"position\": 4, \"examination\": 0.35959649085998535, \"name\": \"REM\", \"z-index\": 1.0}, {\"position\": 4, \"examination\": 0.36021021008491516, \"name\": \"REM\", \"z-index\": 1.0}, {\"position\": 5, \"examination\": 0.22835813462734222, \"name\": \"REM\", \"z-index\": 1.0}, {\"position\": 6, \"examination\": 0.17790651321411133, \"name\": \"REM\", \"z-index\": 1.0}, {\"position\": 7, \"examination\": 0.14222188293933868, \"name\": \"REM\", \"z-index\": 1.0}, {\"position\": 8, \"examination\": 0.11287659406661987, \"name\": \"REM\", \"z-index\": 1.0}, {\"position\": 9, \"examination\": 0.08350729942321777, \"name\": \"REM\", \"z-index\": 1.0}, {\"position\": 10, \"examination\": 0.066502146422863, \"name\": \"REM\", \"z-index\": 1.0}, {\"position\": 1, \"examination\": 1.0, \"name\": \"REM\", \"z-index\": 1.0}, {\"position\": 2, \"examination\": 0.6383718252182007, \"name\": \"REM\", \"z-index\": 1.0}, {\"position\": 3, \"examination\": 0.4170410633087158, \"name\": \"REM\", \"z-index\": 1.0}, {\"position\": 10, \"examination\": 0.067165806889534, \"name\": \"REM\", \"z-index\": 1.0}, {\"position\": 1, \"examination\": 1.0, \"name\": \"RegressionEM\", \"z-index\": null}, {\"position\": 2, \"examination\": 0.6381545662879944, \"name\": \"RegressionEM\", \"z-index\": null}, {\"position\": 3, \"examination\": 0.41670629382133484, \"name\": \"RegressionEM\", \"z-index\": null}, {\"position\": 4, \"examination\": 0.3579614460468292, \"name\": \"RegressionEM\", \"z-index\": null}, {\"position\": 5, \"examination\": 0.22680220007896423, \"name\": \"RegressionEM\", \"z-index\": null}, {\"position\": 6, \"examination\": 0.17652519047260284, \"name\": \"RegressionEM\", \"z-index\": null}, {\"position\": 7, \"examination\": 0.14116942882537842, \"name\": \"RegressionEM\", \"z-index\": null}, {\"position\": 8, \"examination\": 0.1122392788529396, \"name\": \"RegressionEM\", \"z-index\": null}, {\"position\": 9, \"examination\": 0.08298486471176147, \"name\": \"RegressionEM\", \"z-index\": null}, {\"position\": 10, \"examination\": 0.06591770052909851, \"name\": \"RegressionEM\", \"z-index\": null}, {\"position\": 1, \"examination\": 1.0, \"name\": \"RegressionEM\", \"z-index\": null}, {\"position\": 2, \"examination\": 0.6387550234794617, \"name\": \"RegressionEM\", \"z-index\": null}, {\"position\": 3, \"examination\": 0.4174703359603882, \"name\": \"RegressionEM\", \"z-index\": null}, {\"position\": 4, \"examination\": 0.36021021008491516, \"name\": \"RegressionEM\", \"z-index\": null}, {\"position\": 5, \"examination\": 0.22835813462734222, \"name\": \"RegressionEM\", \"z-index\": null}, {\"position\": 6, \"examination\": 0.17790651321411133, \"name\": \"RegressionEM\", \"z-index\": null}, {\"position\": 7, \"examination\": 0.14222188293933868, \"name\": \"RegressionEM\", \"z-index\": null}, {\"position\": 8, \"examination\": 0.11287659406661987, \"name\": \"RegressionEM\", \"z-index\": null}, {\"position\": 9, \"examination\": 0.08350729942321777, \"name\": \"RegressionEM\", \"z-index\": null}, {\"position\": 10, \"examination\": 0.066502146422863, \"name\": \"RegressionEM\", \"z-index\": null}, {\"position\": 1, \"examination\": 1.0, \"name\": \"RegressionEM\", \"z-index\": null}, {\"position\": 2, \"examination\": 0.6383718252182007, \"name\": \"RegressionEM\", \"z-index\": null}, {\"position\": 3, \"examination\": 0.4170410633087158, \"name\": \"RegressionEM\", \"z-index\": null}, {\"position\": 4, \"examination\": 0.35959649085998535, \"name\": \"RegressionEM\", \"z-index\": null}, {\"position\": 5, \"examination\": 0.22787584364414215, \"name\": \"RegressionEM\", \"z-index\": null}, {\"position\": 6, \"examination\": 0.1773921698331833, \"name\": \"RegressionEM\", \"z-index\": null}, {\"position\": 7, \"examination\": 0.14194197952747345, \"name\": \"RegressionEM\", \"z-index\": null}, {\"position\": 8, \"examination\": 0.112891286611557, \"name\": \"RegressionEM\", \"z-index\": null}, {\"position\": 9, \"examination\": 0.08345423638820648, \"name\": \"RegressionEM\", \"z-index\": null}, {\"position\": 10, \"examination\": 0.06688666343688965, \"name\": \"RegressionEM\", \"z-index\": null}, {\"position\": 1, \"examination\": 1.0, \"name\": \"RegressionEM\", \"z-index\": null}, {\"position\": 2, \"examination\": 0.637324869632721, \"name\": \"RegressionEM\", \"z-index\": null}, {\"position\": 3, \"examination\": 0.4170377850532532, \"name\": \"RegressionEM\", \"z-index\": null}, {\"position\": 4, \"examination\": 0.3607194423675537, \"name\": \"RegressionEM\", \"z-index\": null}, {\"position\": 5, \"examination\": 0.22826647758483887, \"name\": \"RegressionEM\", \"z-index\": null}, {\"position\": 6, \"examination\": 0.17777810990810394, \"name\": \"RegressionEM\", \"z-index\": null}, {\"position\": 7, \"examination\": 0.14248475432395935, \"name\": \"RegressionEM\", \"z-index\": null}, {\"position\": 8, \"examination\": 0.11317840963602066, \"name\": \"RegressionEM\", \"z-index\": null}, {\"position\": 9, \"examination\": 0.08364366739988327, \"name\": \"RegressionEM\", \"z-index\": null}, {\"position\": 10, \"examination\": 0.06667931377887726, \"name\": \"RegressionEM\", \"z-index\": null}, {\"position\": 1, \"examination\": 1.0, \"name\": \"RegressionEM\", \"z-index\": null}, {\"position\": 2, \"examination\": 0.6388514041900635, \"name\": \"RegressionEM\", \"z-index\": null}, {\"position\": 3, \"examination\": 0.41753655672073364, \"name\": \"RegressionEM\", \"z-index\": null}, {\"position\": 4, \"examination\": 0.3608531951904297, \"name\": \"RegressionEM\", \"z-index\": null}, {\"position\": 5, \"examination\": 0.22860421240329742, \"name\": \"RegressionEM\", \"z-index\": null}, {\"position\": 6, \"examination\": 0.17807424068450928, \"name\": \"RegressionEM\", \"z-index\": null}, {\"position\": 7, \"examination\": 0.1426079422235489, \"name\": \"RegressionEM\", \"z-index\": null}, {\"position\": 8, \"examination\": 0.11323307454586029, \"name\": \"RegressionEM\", \"z-index\": null}, {\"position\": 9, \"examination\": 0.08378668129444122, \"name\": \"RegressionEM\", \"z-index\": null}, {\"position\": 10, \"examination\": 0.067165806889534, \"name\": \"RegressionEM\", \"z-index\": null}]}}, {\"mode\": \"vega-lite\"});\n",
       "</script>"
      ],
      "text/plain": [
       "alt.LayerChart(...)"
      ]
     },
     "execution_count": 214,
     "metadata": {},
     "output_type": "execute_result"
    }
   ],
   "source": [
    "ctr = alt.Chart(ctr_df, width=425).mark_line(size=2, opacity=1, point=True, strokeDash=[8,2]).encode(\n",
    "    x=alt.X(\"position:Q\", title=\"Position\").scale(domain=(1, 10)),\n",
    "    y=alt.Y(\"examination\", title=\"Normalized Propensity\"),\n",
    ")\n",
    "\n",
    "harvesting = alt.Chart(harvesting_df, width=425).mark_line(size=2, opacity=0.8, point=True).encode(\n",
    "    x=alt.X(\"position:Q\", title=\"Position\").scale(domain=(1, 10)),\n",
    "    y=alt.Y(\"mean(examination)\", title=\"Normalized Propensity\"),\n",
    "    color=alt.Color(\"name\", title=\"\", sort=order).scale(domain=order, ),\n",
    ") \n",
    "\n",
    "error = alt.Chart(harvesting_df, width=425).mark_errorband(opacity=0.5, extent=\"ci\").encode(\n",
    "    x=alt.X(\"position:Q\", title=\"Position\"),\n",
    "    y=alt.Y(\"examination\", title=\"Normalized Propensity\"),\n",
    "    color=alt.Color(\"name\", title=\"\", sort=order).scale(domain=order, range=[\"#393b79\", \"#31a354\", \"#e6550d\", \"#fd8d3c\", \"#fdae6b\",]),\n",
    ")\n",
    "\n",
    "chart = (ctr + harvesting + error).configure_point(\n",
    "    size=30\n",
    ").configure_legend(\n",
    "    orient=\"top\",\n",
    "    direction=\"horizontal\",\n",
    ")\n",
    "\n",
    "chart"
   ]
  },
  {
   "cell_type": "code",
   "execution_count": 215,
   "id": "16555860-560a-4409-8c90-fc0a52b133cc",
   "metadata": {},
   "outputs": [],
   "source": [
    "svg_file = directory / f\"{name}.svg\"\n",
    "pdf_file = directory / f\"{name}.pdf\""
   ]
  },
  {
   "cell_type": "code",
   "execution_count": 216,
   "id": "6e4b7b11-a9bb-4fad-843d-312662b195d5",
   "metadata": {},
   "outputs": [],
   "source": [
    "# to .svg\n",
    "chart.save(svg_file)\n",
    "# to .pdf\n",
    "!rsvg-convert -f pdf {svg_file} > {pdf_file}"
   ]
  }
 ],
 "metadata": {
  "kernelspec": {
   "display_name": "Python 3 (ipykernel)",
   "language": "python",
   "name": "python3"
  },
  "language_info": {
   "codemirror_mode": {
    "name": "ipython",
    "version": 3
   },
   "file_extension": ".py",
   "mimetype": "text/x-python",
   "name": "python",
   "nbconvert_exporter": "python",
   "pygments_lexer": "ipython3",
   "version": "3.9.6"
  }
 },
 "nbformat": 4,
 "nbformat_minor": 5
}
