{
 "cells": [
  {
   "cell_type": "code",
   "execution_count": 1,
   "id": "e3e9fe1d-bd44-46cf-9986-a3c017da59bb",
   "metadata": {},
   "outputs": [],
   "source": [
    "import altair as alt\n",
    "import pandas as pd\n",
    "\n",
    "from pathlib import Path\n",
    "from theme import theme"
   ]
  },
  {
   "cell_type": "code",
   "execution_count": 2,
   "id": "123f75f3-1129-45ea-9db9-decd91a9560f",
   "metadata": {},
   "outputs": [
    {
     "data": {
      "text/plain": [
       "ThemeRegistry.enable('latex')"
      ]
     },
     "execution_count": 2,
     "metadata": {},
     "output_type": "execute_result"
    }
   ],
   "source": [
    "alt.themes.register(\"latex\", theme)\n",
    "alt.themes.enable(\"latex\")"
   ]
  },
  {
   "cell_type": "code",
   "execution_count": 3,
   "id": "4151bdeb-e3b1-4c1c-9f4c-b37e8ca275d6",
   "metadata": {},
   "outputs": [],
   "source": [
    "name = \"position-bias\"\n",
    "directory = Path(\"figures/\")"
   ]
  },
  {
   "cell_type": "markdown",
   "id": "392bb25f-5d85-4a85-a3eb-57d26deb4072",
   "metadata": {},
   "source": [
    "## Figure 2: Position bias estimates on Baidu ULTR"
   ]
  },
  {
   "cell_type": "code",
   "execution_count": 4,
   "id": "c19613ae-6201-48e3-b36b-1f7a14e0905f",
   "metadata": {},
   "outputs": [],
   "source": [
    "method2name = {\n",
    "    \"ctr\": \"CTR\",\n",
    "    \"pivot_one\": \"Pivot One\",\n",
    "    \"adjacent_chain\": \"Adjacent Chain\",\n",
    "    \"global_all_pairs\": \"All Pairs\",\n",
    "}"
   ]
  },
  {
   "cell_type": "code",
   "execution_count": 5,
   "id": "818ef574-57eb-4f9c-a60c-dee959b2df70",
   "metadata": {},
   "outputs": [
    {
     "data": {
      "text/html": [
       "<div>\n",
       "<style scoped>\n",
       "    .dataframe tbody tr th:only-of-type {\n",
       "        vertical-align: middle;\n",
       "    }\n",
       "\n",
       "    .dataframe tbody tr th {\n",
       "        vertical-align: top;\n",
       "    }\n",
       "\n",
       "    .dataframe thead th {\n",
       "        text-align: right;\n",
       "    }\n",
       "</style>\n",
       "<table border=\"1\" class=\"dataframe\">\n",
       "  <thead>\n",
       "    <tr style=\"text-align: right;\">\n",
       "      <th></th>\n",
       "      <th>position</th>\n",
       "      <th>examination</th>\n",
       "      <th>name</th>\n",
       "    </tr>\n",
       "  </thead>\n",
       "  <tbody>\n",
       "    <tr>\n",
       "      <th>0</th>\n",
       "      <td>1</td>\n",
       "      <td>1.000000</td>\n",
       "      <td>All Pairs</td>\n",
       "    </tr>\n",
       "    <tr>\n",
       "      <th>1</th>\n",
       "      <td>2</td>\n",
       "      <td>0.673779</td>\n",
       "      <td>All Pairs</td>\n",
       "    </tr>\n",
       "    <tr>\n",
       "      <th>2</th>\n",
       "      <td>3</td>\n",
       "      <td>0.414474</td>\n",
       "      <td>All Pairs</td>\n",
       "    </tr>\n",
       "    <tr>\n",
       "      <th>3</th>\n",
       "      <td>4</td>\n",
       "      <td>0.293205</td>\n",
       "      <td>All Pairs</td>\n",
       "    </tr>\n",
       "    <tr>\n",
       "      <th>4</th>\n",
       "      <td>5</td>\n",
       "      <td>0.207862</td>\n",
       "      <td>All Pairs</td>\n",
       "    </tr>\n",
       "  </tbody>\n",
       "</table>\n",
       "</div>"
      ],
      "text/plain": [
       "   position  examination       name\n",
       "0         1     1.000000  All Pairs\n",
       "1         2     0.673779  All Pairs\n",
       "2         3     0.414474  All Pairs\n",
       "3         4     0.293205  All Pairs\n",
       "4         5     0.207862  All Pairs"
      ]
     },
     "execution_count": 5,
     "metadata": {},
     "output_type": "execute_result"
    }
   ],
   "source": [
    "dfs = []\n",
    "path = Path(\"../propensities\")\n",
    "\n",
    "for file in path.glob(\"*.csv\"):\n",
    "    df = pd.read_csv(file)\n",
    "\n",
    "    method = df.columns[1]\n",
    "    df[\"name\"] = method2name[method]\n",
    "    df = df.rename(columns={method: \"examination\"})\n",
    "    dfs.append(df)\n",
    "\n",
    "df = pd.concat(dfs)\n",
    "df.head()"
   ]
  },
  {
   "cell_type": "code",
   "execution_count": 6,
   "id": "390b81fc-f6d6-487f-8990-2be62ac0f6b4",
   "metadata": {},
   "outputs": [],
   "source": [
    "df = df[df[\"position\"] <= 10]\n",
    "ctr_df = df[df[\"name\"] == \"CTR\"]\n",
    "harvesting_df = df[df[\"name\"] != \"CTR\"]\n",
    "order = list(method2name.values())"
   ]
  },
  {
   "cell_type": "code",
   "execution_count": 7,
   "id": "283e2628-977f-4993-90cf-35593d5a048f",
   "metadata": {},
   "outputs": [
    {
     "data": {
      "text/html": [
       "\n",
       "<style>\n",
       "  #altair-viz-b964d7781604425c9954a8ef038dcd55.vega-embed {\n",
       "    width: 100%;\n",
       "    display: flex;\n",
       "  }\n",
       "\n",
       "  #altair-viz-b964d7781604425c9954a8ef038dcd55.vega-embed details,\n",
       "  #altair-viz-b964d7781604425c9954a8ef038dcd55.vega-embed details summary {\n",
       "    position: relative;\n",
       "  }\n",
       "</style>\n",
       "<div id=\"altair-viz-b964d7781604425c9954a8ef038dcd55\"></div>\n",
       "<script type=\"text/javascript\">\n",
       "  var VEGA_DEBUG = (typeof VEGA_DEBUG == \"undefined\") ? {} : VEGA_DEBUG;\n",
       "  (function(spec, embedOpt){\n",
       "    let outputDiv = document.currentScript.previousElementSibling;\n",
       "    if (outputDiv.id !== \"altair-viz-b964d7781604425c9954a8ef038dcd55\") {\n",
       "      outputDiv = document.getElementById(\"altair-viz-b964d7781604425c9954a8ef038dcd55\");\n",
       "    }\n",
       "    const paths = {\n",
       "      \"vega\": \"https://cdn.jsdelivr.net/npm/vega@5?noext\",\n",
       "      \"vega-lib\": \"https://cdn.jsdelivr.net/npm/vega-lib?noext\",\n",
       "      \"vega-lite\": \"https://cdn.jsdelivr.net/npm/vega-lite@5.15.1?noext\",\n",
       "      \"vega-embed\": \"https://cdn.jsdelivr.net/npm/vega-embed@6?noext\",\n",
       "    };\n",
       "\n",
       "    function maybeLoadScript(lib, version) {\n",
       "      var key = `${lib.replace(\"-\", \"\")}_version`;\n",
       "      return (VEGA_DEBUG[key] == version) ?\n",
       "        Promise.resolve(paths[lib]) :\n",
       "        new Promise(function(resolve, reject) {\n",
       "          var s = document.createElement('script');\n",
       "          document.getElementsByTagName(\"head\")[0].appendChild(s);\n",
       "          s.async = true;\n",
       "          s.onload = () => {\n",
       "            VEGA_DEBUG[key] = version;\n",
       "            return resolve(paths[lib]);\n",
       "          };\n",
       "          s.onerror = () => reject(`Error loading script: ${paths[lib]}`);\n",
       "          s.src = paths[lib];\n",
       "        });\n",
       "    }\n",
       "\n",
       "    function showError(err) {\n",
       "      outputDiv.innerHTML = `<div class=\"error\" style=\"color:red;\">${err}</div>`;\n",
       "      throw err;\n",
       "    }\n",
       "\n",
       "    function displayChart(vegaEmbed) {\n",
       "      vegaEmbed(outputDiv, spec, embedOpt)\n",
       "        .catch(err => showError(`Javascript Error: ${err.message}<br>This usually means there's a typo in your chart specification. See the javascript console for the full traceback.`));\n",
       "    }\n",
       "\n",
       "    if(typeof define === \"function\" && define.amd) {\n",
       "      requirejs.config({paths});\n",
       "      require([\"vega-embed\"], displayChart, err => showError(`Error loading script: ${err.message}`));\n",
       "    } else {\n",
       "      maybeLoadScript(\"vega\", \"5\")\n",
       "        .then(() => maybeLoadScript(\"vega-lite\", \"5.15.1\"))\n",
       "        .then(() => maybeLoadScript(\"vega-embed\", \"6\"))\n",
       "        .catch(showError)\n",
       "        .then(() => displayChart(vegaEmbed));\n",
       "    }\n",
       "  })({\"config\": {\"title\": {\"font\": \"serif\", \"fontWeight\": \"normal\", \"fontSize\": 16, \"dx\": 5}, \"axis\": {\"titleFont\": \"serif\", \"titleFontWeight\": \"normal\", \"titleFontSize\": 16, \"labelFont\": \"serif\", \"labelFontWeight\": \"normal\", \"labelFontSize\": 16}, \"headerColumn\": {\"titleFont\": \"serif\", \"titleFontWeight\": \"normal\", \"titleFontSize\": 16, \"labelFont\": \"serif\", \"labelFontWeight\": \"normal\", \"labelFontSize\": 16}, \"text\": {\"font\": \"serif\", \"fontSize\": 14}, \"legend\": {\"labelFont\": \"serif\", \"titleFont\": \"serif\", \"titleFontSize\": 16, \"labelFontSize\": 16, \"direction\": \"horizontal\", \"legendX\": 17, \"legendY\": -25, \"orient\": \"none\"}, \"point\": {\"size\": 60}}, \"layer\": [{\"data\": {\"name\": \"data-adc1f925dde5377321b431e04d09c052\"}, \"mark\": {\"type\": \"line\", \"opacity\": 1, \"point\": true, \"size\": 2, \"strokeDash\": [8, 2]}, \"encoding\": {\"color\": {\"field\": \"name\", \"type\": \"nominal\"}, \"x\": {\"field\": \"position\", \"scale\": {\"domain\": [1, 10]}, \"title\": \"Position\", \"type\": \"quantitative\"}, \"y\": {\"field\": \"examination\", \"title\": \"Examination\", \"type\": \"quantitative\"}}}, {\"data\": {\"name\": \"data-1cb84c014e4d730d2b2b98b07316a4ca\"}, \"mark\": {\"type\": \"line\", \"opacity\": 0.9, \"point\": true, \"size\": 3}, \"encoding\": {\"color\": {\"field\": \"name\", \"scale\": {\"domain\": [\"CTR\", \"Pivot One\", \"Adjacent Chain\", \"All Pairs\"]}, \"sort\": [\"CTR\", \"Pivot One\", \"Adjacent Chain\", \"All Pairs\"], \"title\": null, \"type\": \"nominal\"}, \"x\": {\"field\": \"position\", \"scale\": {\"domain\": [1, 10]}, \"title\": \"Position\", \"type\": \"quantitative\"}, \"y\": {\"field\": \"examination\", \"title\": \"Examination\", \"type\": \"quantitative\"}}}], \"width\": 400, \"$schema\": \"https://vega.github.io/schema/vega-lite/v5.15.1.json\", \"datasets\": {\"data-adc1f925dde5377321b431e04d09c052\": [{\"position\": 1, \"examination\": 1.0, \"name\": \"CTR\"}, {\"position\": 2, \"examination\": 0.5097289790607338, \"name\": \"CTR\"}, {\"position\": 3, \"examination\": 0.2616321625289055, \"name\": \"CTR\"}, {\"position\": 4, \"examination\": 0.2027042672682065, \"name\": \"CTR\"}, {\"position\": 5, \"examination\": 0.1238965417017656, \"name\": \"CTR\"}, {\"position\": 6, \"examination\": 0.0974831859897688, \"name\": \"CTR\"}, {\"position\": 7, \"examination\": 0.0779626698085857, \"name\": \"CTR\"}, {\"position\": 8, \"examination\": 0.0584677209676218, \"name\": \"CTR\"}, {\"position\": 9, \"examination\": 0.0440616363927777, \"name\": \"CTR\"}, {\"position\": 10, \"examination\": 0.0247579662877773, \"name\": \"CTR\"}], \"data-1cb84c014e4d730d2b2b98b07316a4ca\": [{\"position\": 1, \"examination\": 1.0, \"name\": \"All Pairs\"}, {\"position\": 2, \"examination\": 0.6737794280052185, \"name\": \"All Pairs\"}, {\"position\": 3, \"examination\": 0.4144741892814636, \"name\": \"All Pairs\"}, {\"position\": 4, \"examination\": 0.293204516172409, \"name\": \"All Pairs\"}, {\"position\": 5, \"examination\": 0.207862377166748, \"name\": \"All Pairs\"}, {\"position\": 6, \"examination\": 0.1714488416910171, \"name\": \"All Pairs\"}, {\"position\": 7, \"examination\": 0.1363073885440826, \"name\": \"All Pairs\"}, {\"position\": 8, \"examination\": 0.1165607646107673, \"name\": \"All Pairs\"}, {\"position\": 9, \"examination\": 0.0837790071964263, \"name\": \"All Pairs\"}, {\"position\": 10, \"examination\": 0.0579069145023822, \"name\": \"All Pairs\"}, {\"position\": 1, \"examination\": 1.0, \"name\": \"Adjacent Chain\"}, {\"position\": 2, \"examination\": 0.6840615215572755, \"name\": \"Adjacent Chain\"}, {\"position\": 3, \"examination\": 0.4448892171548264, \"name\": \"Adjacent Chain\"}, {\"position\": 4, \"examination\": 0.3214742398040514, \"name\": \"Adjacent Chain\"}, {\"position\": 5, \"examination\": 0.2228612207145408, \"name\": \"Adjacent Chain\"}, {\"position\": 6, \"examination\": 0.177415967468802, \"name\": \"Adjacent Chain\"}, {\"position\": 7, \"examination\": 0.1361182285063964, \"name\": \"Adjacent Chain\"}, {\"position\": 8, \"examination\": 0.1172311941184334, \"name\": \"Adjacent Chain\"}, {\"position\": 9, \"examination\": 0.082968195240111, \"name\": \"Adjacent Chain\"}, {\"position\": 10, \"examination\": 0.0494620835497163, \"name\": \"Adjacent Chain\"}, {\"position\": 1, \"examination\": 1.0, \"name\": \"Pivot One\"}, {\"position\": 2, \"examination\": 0.6840615215572755, \"name\": \"Pivot One\"}, {\"position\": 3, \"examination\": 0.4475922817314897, \"name\": \"Pivot One\"}, {\"position\": 4, \"examination\": 0.3261513320659251, \"name\": \"Pivot One\"}, {\"position\": 5, \"examination\": 0.2164626444195843, \"name\": \"Pivot One\"}, {\"position\": 6, \"examination\": 0.2016534307371386, \"name\": \"Pivot One\"}, {\"position\": 7, \"examination\": 0.1700982923676195, \"name\": \"Pivot One\"}, {\"position\": 8, \"examination\": 0.1233189025020633, \"name\": \"Pivot One\"}, {\"position\": 9, \"examination\": 0.0935745071834897, \"name\": \"Pivot One\"}, {\"position\": 10, \"examination\": 0.1357913676140067, \"name\": \"Pivot One\"}]}}, {\"mode\": \"vega-lite\"});\n",
       "</script>"
      ],
      "text/plain": [
       "alt.LayerChart(...)"
      ]
     },
     "execution_count": 7,
     "metadata": {},
     "output_type": "execute_result"
    }
   ],
   "source": [
    "ctr = alt.Chart(ctr_df, width=400).mark_line(size=2, opacity=1, point=True, strokeDash=[8,2]).encode(\n",
    "    x=alt.X(\"position:Q\", title=\"Position\").scale(domain=(1, 10)),\n",
    "    y=alt.Y(\"examination\", title=\"Examination\"),\n",
    "    color=alt.Color(\"name\"),\n",
    ")\n",
    "\n",
    "harvesting = alt.Chart(harvesting_df, width=400).mark_line(size=3, opacity=0.9, point=True).encode(\n",
    "    x=alt.X(\"position:Q\", title=\"Position\").scale(domain=(1, 10)),\n",
    "    y=alt.Y(\"examination\", title=\"Examination\"),\n",
    "    color=alt.Color(\"name\", title=None, sort=order).scale(domain=order),\n",
    ")\n",
    "\n",
    "chart = (ctr + harvesting).configure_point(\n",
    "    size=60\n",
    ").configure_legend(\n",
    "    orient=\"none\",\n",
    "    direction=\"horizontal\",\n",
    "    legendX=17, legendY=-25,\n",
    "\n",
    ")\n",
    "\n",
    "chart"
   ]
  },
  {
   "cell_type": "code",
   "execution_count": 8,
   "id": "16555860-560a-4409-8c90-fc0a52b133cc",
   "metadata": {},
   "outputs": [],
   "source": [
    "svg_file = directory / f\"{name}.svg\"\n",
    "pdf_file = directory / f\"{name}.pdf\""
   ]
  },
  {
   "cell_type": "code",
   "execution_count": 9,
   "id": "6e4b7b11-a9bb-4fad-843d-312662b195d5",
   "metadata": {},
   "outputs": [],
   "source": [
    "# to .svg\n",
    "chart.save(svg_file)\n",
    "# to .pdf\n",
    "!rsvg-convert -f pdf {svg_file} > {pdf_file}"
   ]
  }
 ],
 "metadata": {
  "kernelspec": {
   "display_name": "Python 3 (ipykernel)",
   "language": "python",
   "name": "python3"
  },
  "language_info": {
   "codemirror_mode": {
    "name": "ipython",
    "version": 3
   },
   "file_extension": ".py",
   "mimetype": "text/x-python",
   "name": "python",
   "nbconvert_exporter": "python",
   "pygments_lexer": "ipython3",
   "version": "3.9.6"
  }
 },
 "nbformat": 4,
 "nbformat_minor": 5
}
