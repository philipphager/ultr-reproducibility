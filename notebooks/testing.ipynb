{
 "cells": [
  {
   "cell_type": "markdown",
   "id": "727016dd-dfe6-4e1d-8645-fc4c7b67751b",
   "metadata": {},
   "source": [
    "!mamba install -c conda-forge \"vegafusion-python-embed>=1.4.0\" \"vegafusion>=1.4.0\" -y"
   ]
  },
  {
   "cell_type": "code",
   "execution_count": 2,
   "id": "aab5c853-c857-46b6-8278-6fb116fd4a79",
   "metadata": {},
   "outputs": [],
   "source": [
    "import glob\n",
    "import os\n",
    "\n",
    "import altair as alt\n",
    "import pandas as pd\n",
    "\n",
    "from pathlib import Path\n",
    "from theme import theme"
   ]
  },
  {
   "cell_type": "code",
   "execution_count": 3,
   "id": "b250d1d0-5dbc-4447-bdaa-5c3bf5230610",
   "metadata": {},
   "outputs": [
    {
     "data": {
      "text/plain": [
       "ThemeRegistry.enable('latex')"
      ]
     },
     "execution_count": 3,
     "metadata": {},
     "output_type": "execute_result"
    }
   ],
   "source": [
    "alt.data_transformers.enable(\"vegafusion\")\n",
    "alt.themes.register(\"latex\", theme)\n",
    "alt.themes.enable(\"latex\")"
   ]
  },
  {
   "cell_type": "markdown",
   "id": "b143cb5d-9fcd-45a8-992d-9f59ae7fb7de",
   "metadata": {},
   "source": [
    "## Load results"
   ]
  },
  {
   "cell_type": "code",
   "execution_count": 4,
   "id": "b57c68ae-9675-4e42-8ed4-bc0f660718dd",
   "metadata": {},
   "outputs": [],
   "source": [
    "directory = Path(\"outputs\")\n",
    "data = [\"baidu\", \"ltr\", \"uva\"]"
   ]
  },
  {
   "cell_type": "code",
   "execution_count": 5,
   "id": "63e051b0-75a6-4345-9254-d4cc5bed0561",
   "metadata": {},
   "outputs": [],
   "source": [
    "def run_complete(file: Path):\n",
    "    return (file.is_dir()\n",
    "        and (file / \"val.parquet\").exists()\n",
    "        and (file / \"test_click.parquet\").exists()\n",
    "        and (file / \"test_rel.parquet\").exists())\n",
    "\n",
    "def parse_model_name(path: Path):\n",
    "    directory = path.name\n",
    "    options = {}\n",
    "\n",
    "    for option in directory.split(\",\"):\n",
    "        k, v = option.split(\"=\")\n",
    "        options[k] = v\n",
    "\n",
    "    return options\n",
    "\n",
    "def parse_result_file(run: Path, file: str):\n",
    "    options = parse_model_name(run)\n",
    "    \n",
    "    test_rel_df = pd.read_parquet(run / file)\n",
    "    test_rel_df[\"run\"] = run.name\n",
    "    test_rel_df[\"model\"] = options[\"model\"]\n",
    "    test_rel_df[\"data\"] = options[\"data\"]\n",
    "    test_rel_df[\"random_state\"] = options[\"random_state\"]\n",
    "    \n",
    "    return test_rel_df\n",
    "\n",
    "def load_data(data, file: str):\n",
    "    data_path = directory / data\n",
    "    runs = [f for f in data_path.iterdir() if run_complete(f)]\n",
    "    print(f\"Loaded {len(runs)} run(s) for {data}\")\n",
    "\n",
    "    return pd.concat([parse_result_file(run, file) for run in runs])"
   ]
  },
  {
   "cell_type": "code",
   "execution_count": 6,
   "id": "d728ef10-512b-41cf-acf3-499ad8b96395",
   "metadata": {},
   "outputs": [
    {
     "name": "stdout",
     "output_type": "stream",
     "text": [
      "Loaded 55 run(s) for baidu\n",
      "Loaded 55 run(s) for ltr\n",
      "Loaded 55 run(s) for uva\n"
     ]
    },
    {
     "data": {
      "text/html": [
       "<div>\n",
       "<style scoped>\n",
       "    .dataframe tbody tr th:only-of-type {\n",
       "        vertical-align: middle;\n",
       "    }\n",
       "\n",
       "    .dataframe tbody tr th {\n",
       "        vertical-align: top;\n",
       "    }\n",
       "\n",
       "    .dataframe thead th {\n",
       "        text-align: right;\n",
       "    }\n",
       "</style>\n",
       "<table border=\"1\" class=\"dataframe\">\n",
       "  <thead>\n",
       "    <tr style=\"text-align: right;\">\n",
       "      <th></th>\n",
       "      <th>dcg@01</th>\n",
       "      <th>dcg@03</th>\n",
       "      <th>dcg@05</th>\n",
       "      <th>dcg@10</th>\n",
       "      <th>frequency_bucket</th>\n",
       "      <th>mrr@10</th>\n",
       "      <th>ndcg@10</th>\n",
       "      <th>query_id</th>\n",
       "      <th>run</th>\n",
       "      <th>model</th>\n",
       "      <th>data</th>\n",
       "      <th>random_state</th>\n",
       "    </tr>\n",
       "  </thead>\n",
       "  <tbody>\n",
       "    <tr>\n",
       "      <th>0</th>\n",
       "      <td>3.0</td>\n",
       "      <td>4.500000</td>\n",
       "      <td>8.675295</td>\n",
       "      <td>13.939030</td>\n",
       "      <td>8</td>\n",
       "      <td>1.000000</td>\n",
       "      <td>0.473400</td>\n",
       "      <td>1</td>\n",
       "      <td>data=baidu,es_patience=5,logging=True,max_epoc...</td>\n",
       "      <td>ips-listwise</td>\n",
       "      <td>baidu</td>\n",
       "      <td>1906</td>\n",
       "    </tr>\n",
       "    <tr>\n",
       "      <th>1</th>\n",
       "      <td>0.0</td>\n",
       "      <td>0.000000</td>\n",
       "      <td>0.000000</td>\n",
       "      <td>0.000000</td>\n",
       "      <td>9</td>\n",
       "      <td>0.000000</td>\n",
       "      <td>0.000000</td>\n",
       "      <td>2</td>\n",
       "      <td>data=baidu,es_patience=5,logging=True,max_epoc...</td>\n",
       "      <td>ips-listwise</td>\n",
       "      <td>baidu</td>\n",
       "      <td>1906</td>\n",
       "    </tr>\n",
       "    <tr>\n",
       "      <th>2</th>\n",
       "      <td>1.0</td>\n",
       "      <td>6.916508</td>\n",
       "      <td>6.916508</td>\n",
       "      <td>9.765993</td>\n",
       "      <td>3</td>\n",
       "      <td>1.000000</td>\n",
       "      <td>0.264485</td>\n",
       "      <td>3</td>\n",
       "      <td>data=baidu,es_patience=5,logging=True,max_epoc...</td>\n",
       "      <td>ips-listwise</td>\n",
       "      <td>baidu</td>\n",
       "      <td>1906</td>\n",
       "    </tr>\n",
       "    <tr>\n",
       "      <th>3</th>\n",
       "      <td>0.0</td>\n",
       "      <td>0.500000</td>\n",
       "      <td>0.500000</td>\n",
       "      <td>1.718555</td>\n",
       "      <td>8</td>\n",
       "      <td>0.333333</td>\n",
       "      <td>0.145399</td>\n",
       "      <td>4</td>\n",
       "      <td>data=baidu,es_patience=5,logging=True,max_epoc...</td>\n",
       "      <td>ips-listwise</td>\n",
       "      <td>baidu</td>\n",
       "      <td>1906</td>\n",
       "    </tr>\n",
       "    <tr>\n",
       "      <th>4</th>\n",
       "      <td>0.0</td>\n",
       "      <td>3.500000</td>\n",
       "      <td>3.500000</td>\n",
       "      <td>5.708254</td>\n",
       "      <td>6</td>\n",
       "      <td>0.333333</td>\n",
       "      <td>0.324325</td>\n",
       "      <td>5</td>\n",
       "      <td>data=baidu,es_patience=5,logging=True,max_epoc...</td>\n",
       "      <td>ips-listwise</td>\n",
       "      <td>baidu</td>\n",
       "      <td>1906</td>\n",
       "    </tr>\n",
       "  </tbody>\n",
       "</table>\n",
       "</div>"
      ],
      "text/plain": [
       "   dcg@01    dcg@03    dcg@05     dcg@10  frequency_bucket    mrr@10  \\\n",
       "0     3.0  4.500000  8.675295  13.939030                 8  1.000000   \n",
       "1     0.0  0.000000  0.000000   0.000000                 9  0.000000   \n",
       "2     1.0  6.916508  6.916508   9.765993                 3  1.000000   \n",
       "3     0.0  0.500000  0.500000   1.718555                 8  0.333333   \n",
       "4     0.0  3.500000  3.500000   5.708254                 6  0.333333   \n",
       "\n",
       "    ndcg@10  query_id                                                run  \\\n",
       "0  0.473400         1  data=baidu,es_patience=5,logging=True,max_epoc...   \n",
       "1  0.000000         2  data=baidu,es_patience=5,logging=True,max_epoc...   \n",
       "2  0.264485         3  data=baidu,es_patience=5,logging=True,max_epoc...   \n",
       "3  0.145399         4  data=baidu,es_patience=5,logging=True,max_epoc...   \n",
       "4  0.324325         5  data=baidu,es_patience=5,logging=True,max_epoc...   \n",
       "\n",
       "          model   data random_state  \n",
       "0  ips-listwise  baidu         1906  \n",
       "1  ips-listwise  baidu         1906  \n",
       "2  ips-listwise  baidu         1906  \n",
       "3  ips-listwise  baidu         1906  \n",
       "4  ips-listwise  baidu         1906  "
      ]
     },
     "execution_count": 6,
     "metadata": {},
     "output_type": "execute_result"
    }
   ],
   "source": [
    "rel_df = pd.concat([load_data(d, \"test_rel.parquet\") for d in data])\n",
    "rel_df.head()"
   ]
  },
  {
   "cell_type": "markdown",
   "id": "d9146a93-905c-4fc8-b4b6-79dd9dd0d306",
   "metadata": {},
   "source": [
    "# Plot Ranking Results"
   ]
  },
  {
   "cell_type": "code",
   "execution_count": 7,
   "id": "9817cdd6-1867-40f0-9952-c6e2d6db6247",
   "metadata": {},
   "outputs": [],
   "source": [
    "model2name = {\n",
    "    \"naive-pointwise\": \"Point. Naive\",\n",
    "    \"pbm-pointwise\": \"Point. PBM\",\n",
    "    \"regression-em\": \"RegressionEM\",\n",
    "    \"ips-pointwise\": \"Point. IPS\",\n",
    "    \"naive-listwise\": \"List. Naive\",\n",
    "    \"ips-listwise\": \"List. IPS\",\n",
    "    \"dla\": \"Dual Learning Algorithm\",\n",
    "#    \"pbm-listwise\": \"Listwise PBM\",\n",
    "    \"naive-lambda-rank\": \"Naive LambdaRank\",\n",
    "    \"pairwise-debias\": \"Pairwise Debias\",\n",
    "}\n",
    "\n",
    "data2name = {\n",
    "    \"baidu\": \"Baidu BERT Embeddings\",\n",
    "    \"uva\": \"Our BERT Embeddings\",\n",
    "    \"ltr\": \"LTR Features\"\n",
    "}"
   ]
  },
  {
   "cell_type": "markdown",
   "id": "7b6710fe-c6f2-49c9-80ed-4abc789e9000",
   "metadata": {},
   "source": [
    "# Plot Click Prediction"
   ]
  },
  {
   "cell_type": "code",
   "execution_count": null,
   "id": "c141eddb-b34a-41ec-900c-8d10b0657601",
   "metadata": {},
   "outputs": [
    {
     "name": "stdout",
     "output_type": "stream",
     "text": [
      "Loaded 55 run(s) for baidu\n",
      "Loaded 55 run(s) for ltr\n",
      "Loaded 55 run(s) for uva\n"
     ]
    }
   ],
   "source": [
    "models = [\"naive-pointwise\", \"pbm-pointwise\", \"regression-em\", \"ips-pointwise\",]\n",
    "\n",
    "click_df = pd.concat([load_data(d, \"test_click.parquet\") for d in data])\n",
    "click_df = click_df[click_df.model.isin(models)]\n",
    "click_df.head()"
   ]
  },
  {
   "cell_type": "markdown",
   "id": "2cc094cb-0e17-48b4-ba8d-4e547bd142e3",
   "metadata": {},
   "source": [
    "## Significance Testing"
   ]
  },
  {
   "cell_type": "code",
   "execution_count": null,
   "id": "93382ab3-2d31-423a-bfdf-5f65d3650d95",
   "metadata": {},
   "outputs": [],
   "source": [
    "metrics = ['dcg@01', 'dcg@03', 'dcg@05', 'dcg@10', 'mrr@10', \"nll\"]\n",
    "click_models = [\"naive-pointwise\", \"pbm-pointwise\", \"regression-em\", \"ips-pointwise\",]\n",
    "\n",
    "model2position = {model:i for i, model in enumerate(model2name.keys())}"
   ]
  },
  {
   "cell_type": "code",
   "execution_count": null,
   "id": "ea48880b-d072-4e6f-8134-9da9a11df997",
   "metadata": {},
   "outputs": [],
   "source": [
    "from scipy.stats import ttest_rel\n",
    "\n",
    "def t_test(source, data, base, models, alpha = 0.01):\n",
    "    # Bonferoni correction\n",
    "    alpha = alpha / len(models)\n",
    "    results = []\n",
    "    source = source[source[\"data\"] == data]\n",
    "\n",
    "    for metric in metrics:\n",
    "        for model in models:\n",
    "            model_df = source[source[\"model\"] == base][metric]\n",
    "            candidate_df = source[source[\"model\"] == model][metric]\n",
    "\n",
    "            result = ttest_rel(model_df, candidate_df, alternative=\"two-sided\")\n",
    "            reject = result.pvalue <= alpha\n",
    "            improve = result.statistic < 0\n",
    "\n",
    "            results.append({\"data\": data, \"metric\": metric, \"base\": base, \"model\": model, \"improve\": improve, \"alpha\": alpha, \"significant\": reject, \"p_value\": result.pvalue})\n",
    "            \n",
    "    return pd.DataFrame(results)"
   ]
  },
  {
   "cell_type": "code",
   "execution_count": null,
   "id": "0fd8ef46-11f3-43dd-90d5-16c06190ae73",
   "metadata": {},
   "outputs": [],
   "source": [
    "df = rel_df.merge(click_df, on=[\"data\", \"model\", \"run\", \"random_state\", \"query_id\"], how=\"left\")\n",
    "df[\"nll\"] = df[\"nll\"].fillna(0)\n",
    "df.head()"
   ]
  },
  {
   "cell_type": "code",
   "execution_count": null,
   "id": "4be41a6b-75a3-4d43-9095-a23dc5d515bf",
   "metadata": {},
   "outputs": [],
   "source": [
    "pointwise_models = [\"naive-pointwise\", \"pbm-pointwise\", \"regression-em\", \"ips-pointwise\"]\n",
    "listwise_models = [\"naive-listwise\", \"ips-listwise\", \"dla\"]\n",
    "lambdarank_models = [\"naive-lambda-rank\", \"pairwise-debias\"]"
   ]
  },
  {
   "cell_type": "code",
   "execution_count": null,
   "id": "d8fbe8dd-eb3b-4aa1-8300-78b3c7ca3098",
   "metadata": {},
   "outputs": [],
   "source": [
    "test_df = pd.concat([\n",
    "    t_test(df, \"baidu\", \"naive-pointwise\", pointwise_models),\n",
    "    t_test(df, \"baidu\", \"naive-listwise\", listwise_models),\n",
    "    t_test(df, \"baidu\", \"naive-lambda-rank\", lambdarank_models),\n",
    "    t_test(df, \"uva\", \"naive-pointwise\", pointwise_models),\n",
    "    t_test(df, \"uva\", \"naive-listwise\", listwise_models),\n",
    "    t_test(df, \"uva\", \"naive-lambda-rank\", lambdarank_models),\n",
    "    t_test(df, \"ltr\", \"naive-pointwise\", pointwise_models),\n",
    "    t_test(df, \"ltr\", \"naive-listwise\", listwise_models),\n",
    "    t_test(df, \"ltr\", \"naive-lambda-rank\", lambdarank_models),\n",
    "])\n",
    "\n",
    "test_df.head()"
   ]
  },
  {
   "cell_type": "code",
   "execution_count": null,
   "id": "9c77cbc0-8b32-4b49-954e-9b7f6f07f6ae",
   "metadata": {},
   "outputs": [],
   "source": [
    "def map_change(row):\n",
    "    if not row.significant:\n",
    "        return 0\n",
    "    elif row.improve:\n",
    "        return 1\n",
    "    else:\n",
    "        return -1\n",
    "\n",
    "test_df[\"change\"] = test_df.apply(map_change, axis=1)\n",
    "test_df = test_df.pivot_table(index=[\"data\", \"model\"], columns=[\"metric\"], values=[\"change\"], aggfunc=\"max\", fill_value=False)\n",
    "test_df.columns = test_df.columns.droplevel(level=0)\n",
    "test_df = test_df.reset_index()\n",
    "test_df"
   ]
  },
  {
   "cell_type": "code",
   "execution_count": null,
   "id": "508926ad-7fc7-4101-82de-6b45aa70f9f1",
   "metadata": {},
   "outputs": [],
   "source": [
    "test_df[\"data_idx\"] = test_df.data.map({\"baidu\": 0, \"uva\": 1, \"ltr\": 2})\n",
    "test_df[\"model_idx\"] = test_df.model.map(model2position)\n",
    "test_df = test_df.sort_values([\"data_idx\", \"model_idx\"], ascending=True)\n",
    "test_df = test_df.drop(columns=[\"data_idx\", \"model_idx\"])\n",
    "test_df"
   ]
  },
  {
   "cell_type": "markdown",
   "id": "fdb98726-10ba-488c-b764-b581622e85c8",
   "metadata": {},
   "source": [
    "# Plot results in Table"
   ]
  },
  {
   "cell_type": "code",
   "execution_count": null,
   "id": "5a8b56ec-a08f-433f-922d-079bcd6c29be",
   "metadata": {},
   "outputs": [],
   "source": [
    "def plot_change(diff):\n",
    "    if diff == 1:\n",
    "        return \"$^\\\\blacktriangle$\"\n",
    "    elif diff == -1:\n",
    "        return \"$^\\\\blacktriangledown$\"\n",
    "    else:\n",
    "        return \"\"\n",
    "\n",
    "    "
   ]
  },
  {
   "cell_type": "code",
   "execution_count": null,
   "id": "a6cfd415-1c7c-4c69-a29d-4a42ee16a45d",
   "metadata": {},
   "outputs": [],
   "source": [
    "click_df = click_df[click_df[\"model\"].isin(click_models)]\n",
    "\n",
    "df = rel_df.merge(click_df, on=[\"data\", \"model\", \"run\", \"random_state\", \"query_id\"], how=\"left\")\n",
    "table_df = df.groupby([\"data\", \"model\", \"random_state\"])[metrics].mean().reset_index()\n",
    "table_df = table_df.groupby([\"data\", \"model\"])[metrics].agg([\"mean\", \"std\"]).reset_index()\n",
    "\n",
    "table_df = table_df[table_df.model.isin(model2position)]\n",
    "\n",
    "table_df[\"data_idx\"] = table_df.data.map({\"baidu\": 0, \"uva\": 1, \"ltr\": 2})\n",
    "table_df[\"model_idx\"] = table_df.model.map(model2position)\n",
    "table_df = table_df.sort_values([\"data_idx\", \"model_idx\"], ascending=True)\n",
    "table_df = table_df.drop(columns=[(\"data_idx\", \"\"), (\"model_idx\", \"\")])\n",
    "\n",
    "table_df.model = table_df.model.map(model2name)"
   ]
  },
  {
   "cell_type": "code",
   "execution_count": null,
   "id": "3518e149-6c9e-4b1d-bb5e-65f69feab21e",
   "metadata": {},
   "outputs": [],
   "source": [
    "idx_df = table_df[[\"data\", \"model\"]].copy()\n",
    "idx_df.columns = idx_df.columns.droplevel(level=1)\n",
    "\n",
    "for metric in metrics:\n",
    "    mean = table_df[(metric, \"mean\")].map(lambda x: f\"{x:.3f}\" if isinstance(x, float) else x)\n",
    "    std = table_df[(metric, \"std\")].map(lambda x: f\"{x:.3f}\" if isinstance(x, float) else x)\n",
    "    diff = list(test_df[metric].map(plot_change))\n",
    "    \n",
    "    table_df[(metric, \"mean\")] = \"$\" + mean + \"$ \\scriptsize{$(\" + std + \")$}\" + diff\n",
    "    table_df = table_df.drop(columns=[(metric, \"std\")])\n",
    "\n",
    "table_df.columns = table_df.columns.droplevel(level=1)\n",
    "table_df.columns = table_df.columns.str.upper()"
   ]
  },
  {
   "cell_type": "code",
   "execution_count": null,
   "id": "0f5e4bec-ba52-4f0e-ac05-5e5dac5f5454",
   "metadata": {},
   "outputs": [],
   "source": [
    "table_df.to_latex(\"table.tex\", index=False)"
   ]
  }
 ],
 "metadata": {
  "kernelspec": {
   "display_name": "Python 3 (ipykernel)",
   "language": "python",
   "name": "python3"
  },
  "language_info": {
   "codemirror_mode": {
    "name": "ipython",
    "version": 3
   },
   "file_extension": ".py",
   "mimetype": "text/x-python",
   "name": "python",
   "nbconvert_exporter": "python",
   "pygments_lexer": "ipython3",
   "version": "3.9.6"
  }
 },
 "nbformat": 4,
 "nbformat_minor": 5
}
