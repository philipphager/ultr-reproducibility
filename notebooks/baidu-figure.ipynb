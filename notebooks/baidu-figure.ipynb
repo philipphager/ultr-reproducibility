{
 "cells": [
  {
   "cell_type": "code",
   "execution_count": 3,
   "id": "e3e9fe1d-bd44-46cf-9986-a3c017da59bb",
   "metadata": {},
   "outputs": [],
   "source": [
    "import altair as alt\n",
    "import pandas as pd\n",
    "\n",
    "from io import StringIO\n",
    "from pathlib import Path\n",
    "from theme import theme"
   ]
  },
  {
   "cell_type": "code",
   "execution_count": 4,
   "id": "123f75f3-1129-45ea-9db9-decd91a9560f",
   "metadata": {},
   "outputs": [
    {
     "data": {
      "text/plain": [
       "ThemeRegistry.enable('latex')"
      ]
     },
     "execution_count": 4,
     "metadata": {},
     "output_type": "execute_result"
    }
   ],
   "source": [
    "alt.themes.register(\"latex\", theme)\n",
    "alt.themes.enable(\"latex\")"
   ]
  },
  {
   "cell_type": "code",
   "execution_count": 5,
   "id": "4151bdeb-e3b1-4c1c-9f4c-b37e8ca275d6",
   "metadata": {},
   "outputs": [],
   "source": [
    "name = \"baidu-table-6\"\n",
    "directory = Path(\"figures\")"
   ]
  },
  {
   "cell_type": "markdown",
   "id": "392bb25f-5d85-4a85-a3eb-57d26deb4072",
   "metadata": {},
   "source": [
    "## Figure 1: Baidu ULTR results\n",
    "See Table 6 in: https://openreview.net/pdf?id=EZcHYuU_9E"
   ]
  },
  {
   "cell_type": "code",
   "execution_count": 6,
   "id": "f67b18fc-0e76-411e-8c77-470de34c132e",
   "metadata": {},
   "outputs": [
    {
     "data": {
      "text/html": [
       "<div>\n",
       "<style scoped>\n",
       "    .dataframe tbody tr th:only-of-type {\n",
       "        vertical-align: middle;\n",
       "    }\n",
       "\n",
       "    .dataframe tbody tr th {\n",
       "        vertical-align: top;\n",
       "    }\n",
       "\n",
       "    .dataframe thead th {\n",
       "        text-align: right;\n",
       "    }\n",
       "</style>\n",
       "<table border=\"1\" class=\"dataframe\">\n",
       "  <thead>\n",
       "    <tr style=\"text-align: right;\">\n",
       "      <th></th>\n",
       "      <th>model</th>\n",
       "      <th>dcg@10</th>\n",
       "      <th>std</th>\n",
       "    </tr>\n",
       "  </thead>\n",
       "  <tbody>\n",
       "    <tr>\n",
       "      <th>0</th>\n",
       "      <td>Naive</td>\n",
       "      <td>6.170</td>\n",
       "      <td>0.124</td>\n",
       "    </tr>\n",
       "    <tr>\n",
       "      <th>1</th>\n",
       "      <td>IPS</td>\n",
       "      <td>6.194</td>\n",
       "      <td>0.115</td>\n",
       "    </tr>\n",
       "    <tr>\n",
       "      <th>2</th>\n",
       "      <td>REM</td>\n",
       "      <td>6.177</td>\n",
       "      <td>0.126</td>\n",
       "    </tr>\n",
       "    <tr>\n",
       "      <th>3</th>\n",
       "      <td>PairD</td>\n",
       "      <td>6.214</td>\n",
       "      <td>0.114</td>\n",
       "    </tr>\n",
       "    <tr>\n",
       "      <th>4</th>\n",
       "      <td>DLA</td>\n",
       "      <td>6.236</td>\n",
       "      <td>0.017</td>\n",
       "    </tr>\n",
       "  </tbody>\n",
       "</table>\n",
       "</div>"
      ],
      "text/plain": [
       "   model  dcg@10    std\n",
       "0  Naive   6.170  0.124\n",
       "1    IPS   6.194  0.115\n",
       "2    REM   6.177  0.126\n",
       "3  PairD   6.214  0.114\n",
       "4    DLA   6.236  0.017"
      ]
     },
     "execution_count": 6,
     "metadata": {},
     "output_type": "execute_result"
    }
   ],
   "source": [
    "data = StringIO(\"\"\"\n",
    "model,dcg@10,std\n",
    "Naive,6.170,0.124\n",
    "IPS,6.194,0.115\n",
    "REM,6.177,0.126\n",
    "PairD,6.214,0.114\n",
    "DLA,6.236,0.017\n",
    "\"\"\")\n",
    "\n",
    "df = pd.read_csv(data)\n",
    "df.head()"
   ]
  },
  {
   "cell_type": "code",
   "execution_count": 8,
   "id": "5ed6f82c-92f9-4639-a615-f60e8ada2289",
   "metadata": {},
   "outputs": [
    {
     "data": {
      "text/html": [
       "\n",
       "<style>\n",
       "  #altair-viz-d85e5ff81a2a464b8f17ea7c4d7a4272.vega-embed {\n",
       "    width: 100%;\n",
       "    display: flex;\n",
       "  }\n",
       "\n",
       "  #altair-viz-d85e5ff81a2a464b8f17ea7c4d7a4272.vega-embed details,\n",
       "  #altair-viz-d85e5ff81a2a464b8f17ea7c4d7a4272.vega-embed details summary {\n",
       "    position: relative;\n",
       "  }\n",
       "</style>\n",
       "<div id=\"altair-viz-d85e5ff81a2a464b8f17ea7c4d7a4272\"></div>\n",
       "<script type=\"text/javascript\">\n",
       "  var VEGA_DEBUG = (typeof VEGA_DEBUG == \"undefined\") ? {} : VEGA_DEBUG;\n",
       "  (function(spec, embedOpt){\n",
       "    let outputDiv = document.currentScript.previousElementSibling;\n",
       "    if (outputDiv.id !== \"altair-viz-d85e5ff81a2a464b8f17ea7c4d7a4272\") {\n",
       "      outputDiv = document.getElementById(\"altair-viz-d85e5ff81a2a464b8f17ea7c4d7a4272\");\n",
       "    }\n",
       "    const paths = {\n",
       "      \"vega\": \"https://cdn.jsdelivr.net/npm/vega@5?noext\",\n",
       "      \"vega-lib\": \"https://cdn.jsdelivr.net/npm/vega-lib?noext\",\n",
       "      \"vega-lite\": \"https://cdn.jsdelivr.net/npm/vega-lite@5.15.1?noext\",\n",
       "      \"vega-embed\": \"https://cdn.jsdelivr.net/npm/vega-embed@6?noext\",\n",
       "    };\n",
       "\n",
       "    function maybeLoadScript(lib, version) {\n",
       "      var key = `${lib.replace(\"-\", \"\")}_version`;\n",
       "      return (VEGA_DEBUG[key] == version) ?\n",
       "        Promise.resolve(paths[lib]) :\n",
       "        new Promise(function(resolve, reject) {\n",
       "          var s = document.createElement('script');\n",
       "          document.getElementsByTagName(\"head\")[0].appendChild(s);\n",
       "          s.async = true;\n",
       "          s.onload = () => {\n",
       "            VEGA_DEBUG[key] = version;\n",
       "            return resolve(paths[lib]);\n",
       "          };\n",
       "          s.onerror = () => reject(`Error loading script: ${paths[lib]}`);\n",
       "          s.src = paths[lib];\n",
       "        });\n",
       "    }\n",
       "\n",
       "    function showError(err) {\n",
       "      outputDiv.innerHTML = `<div class=\"error\" style=\"color:red;\">${err}</div>`;\n",
       "      throw err;\n",
       "    }\n",
       "\n",
       "    function displayChart(vegaEmbed) {\n",
       "      vegaEmbed(outputDiv, spec, embedOpt)\n",
       "        .catch(err => showError(`Javascript Error: ${err.message}<br>This usually means there's a typo in your chart specification. See the javascript console for the full traceback.`));\n",
       "    }\n",
       "\n",
       "    if(typeof define === \"function\" && define.amd) {\n",
       "      requirejs.config({paths});\n",
       "      require([\"vega-embed\"], displayChart, err => showError(`Error loading script: ${err.message}`));\n",
       "    } else {\n",
       "      maybeLoadScript(\"vega\", \"5\")\n",
       "        .then(() => maybeLoadScript(\"vega-lite\", \"5.15.1\"))\n",
       "        .then(() => maybeLoadScript(\"vega-embed\", \"6\"))\n",
       "        .catch(showError)\n",
       "        .then(() => displayChart(vegaEmbed));\n",
       "    }\n",
       "  })({\"config\": {\"title\": {\"font\": \"serif\", \"fontWeight\": \"normal\", \"fontSize\": 16, \"dx\": 5}, \"axis\": {\"titleFont\": \"serif\", \"titleFontWeight\": \"normal\", \"titleFontSize\": 16, \"labelFont\": \"serif\", \"labelFontWeight\": \"normal\", \"labelFontSize\": 16}, \"headerColumn\": {\"titleFont\": \"serif\", \"titleFontWeight\": \"normal\", \"titleFontSize\": 16, \"labelFont\": \"serif\", \"labelFontWeight\": \"normal\", \"labelFontSize\": 16}, \"text\": {\"font\": \"serif\", \"fontSize\": 14}, \"legend\": {\"labelFont\": \"serif\", \"titleFont\": \"serif\", \"titleFontSize\": 16, \"labelFontSize\": 16}}, \"layer\": [{\"mark\": {\"type\": \"errorbar\"}, \"encoding\": {\"color\": {\"field\": \"model\", \"legend\": null, \"title\": null, \"type\": \"nominal\"}, \"strokeWidth\": {\"value\": 2}, \"x\": {\"axis\": {\"labelAngle\": 45}, \"field\": \"model\", \"sort\": [\"Naive\", \"IPS\", \"REM\", \"PairD\", \"DLA\"], \"title\": \"\", \"type\": \"nominal\"}, \"y\": {\"field\": \"dcg@10\", \"scale\": {\"zero\": false}, \"title\": \"DCG@10\", \"type\": \"quantitative\"}, \"yError\": {\"field\": \"std\"}}}, {\"mark\": {\"type\": \"circle\", \"opacity\": 1.0, \"size\": 100}, \"encoding\": {\"color\": {\"field\": \"model\", \"legend\": null, \"title\": null, \"type\": \"nominal\"}, \"x\": {\"axis\": {\"labelAngle\": 45}, \"field\": \"model\", \"sort\": [\"Naive\", \"IPS\", \"REM\", \"PairD\", \"DLA\"], \"title\": \"\", \"type\": \"nominal\"}, \"y\": {\"field\": \"dcg@10\", \"scale\": {\"domain\": [6, 6.4]}, \"title\": \"DCG@10\", \"type\": \"quantitative\"}}}], \"data\": {\"name\": \"data-214fe991985099c97b14745234be70e0\"}, \"width\": 350, \"$schema\": \"https://vega.github.io/schema/vega-lite/v5.15.1.json\", \"datasets\": {\"data-214fe991985099c97b14745234be70e0\": [{\"model\": \"Naive\", \"dcg@10\": 6.17, \"std\": 0.124}, {\"model\": \"IPS\", \"dcg@10\": 6.194, \"std\": 0.115}, {\"model\": \"REM\", \"dcg@10\": 6.177, \"std\": 0.126}, {\"model\": \"PairD\", \"dcg@10\": 6.214, \"std\": 0.114}, {\"model\": \"DLA\", \"dcg@10\": 6.236, \"std\": 0.017}]}}, {\"mode\": \"vega-lite\"});\n",
       "</script>"
      ],
      "text/plain": [
       "alt.LayerChart(...)"
      ]
     },
     "execution_count": 8,
     "metadata": {},
     "output_type": "execute_result"
    }
   ],
   "source": [
    "order = [\"Naive\", \"IPS\", \"REM\", \"PairD\", \"DLA\"]\n",
    "\n",
    "base = alt.Chart(df, width=350)\n",
    "\n",
    "points = base.mark_circle(size=100, opacity=1.0).encode(\n",
    "    x=alt.X(\"model\", title=\"\", sort=order).axis(labelAngle=45),\n",
    "    y=alt.Y(\"dcg@10\", title=\"DCG@10\").scale(domain=(6, 6.4)),\n",
    "    color=alt.Color(\"model\", title=None, legend=None)\n",
    ")\n",
    "\n",
    "error = base.mark_errorbar().encode(\n",
    "    x=alt.X(\"model\", title=\"\", sort=order).axis(labelAngle=45),\n",
    "    y=alt.Y(\"dcg@10\", title=\"DCG@10\").scale(zero=False),\n",
    "    yError=\"std:Q\",\n",
    "    color=alt.Color(\"model\", title=None, legend=None),\n",
    "    strokeWidth=alt.value(2)\n",
    ")\n",
    "\n",
    "chart = error + points\n",
    "chart"
   ]
  },
  {
   "cell_type": "code",
   "execution_count": 9,
   "id": "16555860-560a-4409-8c90-fc0a52b133cc",
   "metadata": {},
   "outputs": [],
   "source": [
    "svg_file = directory / f\"{name}.svg\"\n",
    "pdf_file = directory / f\"{name}.pdf\""
   ]
  },
  {
   "cell_type": "code",
   "execution_count": 10,
   "id": "6e4b7b11-a9bb-4fad-843d-312662b195d5",
   "metadata": {},
   "outputs": [],
   "source": [
    "# to .svg\n",
    "chart.save(svg_file)\n",
    "# to .pdf\n",
    "!rsvg-convert -f pdf {svg_file} > {pdf_file}"
   ]
  }
 ],
 "metadata": {
  "kernelspec": {
   "display_name": "Python 3 (ipykernel)",
   "language": "python",
   "name": "python3"
  },
  "language_info": {
   "codemirror_mode": {
    "name": "ipython",
    "version": 3
   },
   "file_extension": ".py",
   "mimetype": "text/x-python",
   "name": "python",
   "nbconvert_exporter": "python",
   "pygments_lexer": "ipython3",
   "version": "3.9.6"
  }
 },
 "nbformat": 4,
 "nbformat_minor": 5
}
